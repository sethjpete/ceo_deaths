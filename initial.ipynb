{
 "cells": [
  {
   "cell_type": "code",
   "execution_count": 1,
   "metadata": {},
   "outputs": [],
   "source": [
    "import pandas as pd\n",
    "import sys\n",
    "sys.path.append('../')"
   ]
  },
  {
   "cell_type": "code",
   "execution_count": 2,
   "metadata": {},
   "outputs": [],
   "source": [
    "df = pd.read_csv('https://raw.githubusercontent.com/rfordatascience/tidytuesday/master/data/2021/2021-04-27/departures.csv')"
   ]
  },
  {
   "cell_type": "code",
   "execution_count": 3,
   "metadata": {},
   "outputs": [],
   "source": [
    "from datasets.crsp_data import CRSP"
   ]
  },
  {
   "cell_type": "code",
   "execution_count": 5,
   "metadata": {},
   "outputs": [
    {
     "name": "stdout",
     "output_type": "stream",
     "text": [
      "DOWNLOADING RAW FILE\n",
      "DOWNLOADING RAW FILE\n"
     ]
    },
    {
     "name": "stderr",
     "output_type": "stream",
     "text": [
      "Downloading...\n",
      "From (original): https://drive.google.com/uc?id=15E7hEZdUf9nVVzlZokPVkanglF4j_Vni\n",
      "From (redirected): https://drive.google.com/uc?id=15E7hEZdUf9nVVzlZokPVkanglF4j_Vni&confirm=t&uuid=1ba83269-c97b-4444-99cf-08fd56957066\n",
      "To: /Users/sethjpete/data/crsp_monthly_raw.csv\n",
      "100%|██████████| 1.46G/1.46G [01:28<00:00, 16.6MB/s]\n"
     ]
    },
    {
     "name": "stdout",
     "output_type": "stream",
     "text": [
      "CLEANING RAW FILE\n",
      "CLEANING RAW FILE\n"
     ]
    },
    {
     "name": "stderr",
     "output_type": "stream",
     "text": [
      "/Users/sethjpete/Documents/Research/ceo_deaths/datasets/crsp_data.py:29: DtypeWarning: Columns (5,6,9,18,19,38,40) have mixed types. Specify dtype option on import or set low_memory=False.\n",
      "  df = pd.read_csv(RAW_FILE_PATH)\n"
     ]
    },
    {
     "name": "stdout",
     "output_type": "stream",
     "text": [
      "LOADING CLEAN FILE\n"
     ]
    }
   ],
   "source": [
    "crsp = CRSP()"
   ]
  },
  {
   "cell_type": "code",
   "execution_count": 6,
   "metadata": {},
   "outputs": [
    {
     "data": {
      "text/html": [
       "<div>\n",
       "<style scoped>\n",
       "    .dataframe tbody tr th:only-of-type {\n",
       "        vertical-align: middle;\n",
       "    }\n",
       "\n",
       "    .dataframe tbody tr th {\n",
       "        vertical-align: top;\n",
       "    }\n",
       "\n",
       "    .dataframe thead th {\n",
       "        text-align: right;\n",
       "    }\n",
       "</style>\n",
       "<table border=\"1\" class=\"dataframe\">\n",
       "  <thead>\n",
       "    <tr style=\"text-align: right;\">\n",
       "      <th></th>\n",
       "      <th>permno</th>\n",
       "      <th>date</th>\n",
       "      <th>cusip</th>\n",
       "      <th>shrcd</th>\n",
       "      <th>exchcd</th>\n",
       "      <th>ticker</th>\n",
       "      <th>shrout</th>\n",
       "      <th>vol</th>\n",
       "      <th>prc</th>\n",
       "      <th>ret</th>\n",
       "    </tr>\n",
       "  </thead>\n",
       "  <tbody>\n",
       "    <tr>\n",
       "      <th>0</th>\n",
       "      <td>10000</td>\n",
       "      <td>1986-02-28</td>\n",
       "      <td>68391610</td>\n",
       "      <td>10.0</td>\n",
       "      <td>3.0</td>\n",
       "      <td>OMFGA</td>\n",
       "      <td>3680.0</td>\n",
       "      <td>828.0</td>\n",
       "      <td>3.25000</td>\n",
       "      <td>-0.257143</td>\n",
       "    </tr>\n",
       "    <tr>\n",
       "      <th>1</th>\n",
       "      <td>10000</td>\n",
       "      <td>1986-03-31</td>\n",
       "      <td>68391610</td>\n",
       "      <td>10.0</td>\n",
       "      <td>3.0</td>\n",
       "      <td>OMFGA</td>\n",
       "      <td>3680.0</td>\n",
       "      <td>1078.0</td>\n",
       "      <td>4.43750</td>\n",
       "      <td>0.365385</td>\n",
       "    </tr>\n",
       "    <tr>\n",
       "      <th>2</th>\n",
       "      <td>10000</td>\n",
       "      <td>1986-04-30</td>\n",
       "      <td>68391610</td>\n",
       "      <td>10.0</td>\n",
       "      <td>3.0</td>\n",
       "      <td>OMFGA</td>\n",
       "      <td>3793.0</td>\n",
       "      <td>957.0</td>\n",
       "      <td>4.00000</td>\n",
       "      <td>-0.098592</td>\n",
       "    </tr>\n",
       "    <tr>\n",
       "      <th>3</th>\n",
       "      <td>10000</td>\n",
       "      <td>1986-05-30</td>\n",
       "      <td>68391610</td>\n",
       "      <td>10.0</td>\n",
       "      <td>3.0</td>\n",
       "      <td>OMFGA</td>\n",
       "      <td>3793.0</td>\n",
       "      <td>1074.0</td>\n",
       "      <td>3.10938</td>\n",
       "      <td>-0.222656</td>\n",
       "    </tr>\n",
       "    <tr>\n",
       "      <th>4</th>\n",
       "      <td>10000</td>\n",
       "      <td>1986-06-30</td>\n",
       "      <td>68391610</td>\n",
       "      <td>10.0</td>\n",
       "      <td>3.0</td>\n",
       "      <td>OMFGA</td>\n",
       "      <td>3793.0</td>\n",
       "      <td>1069.0</td>\n",
       "      <td>3.09375</td>\n",
       "      <td>-0.005025</td>\n",
       "    </tr>\n",
       "    <tr>\n",
       "      <th>...</th>\n",
       "      <td>...</td>\n",
       "      <td>...</td>\n",
       "      <td>...</td>\n",
       "      <td>...</td>\n",
       "      <td>...</td>\n",
       "      <td>...</td>\n",
       "      <td>...</td>\n",
       "      <td>...</td>\n",
       "      <td>...</td>\n",
       "      <td>...</td>\n",
       "    </tr>\n",
       "    <tr>\n",
       "      <th>3785681</th>\n",
       "      <td>93436</td>\n",
       "      <td>2023-08-31</td>\n",
       "      <td>88160R10</td>\n",
       "      <td>11.0</td>\n",
       "      <td>3.0</td>\n",
       "      <td>TSLA</td>\n",
       "      <td>3173994.0</td>\n",
       "      <td>25029170.0</td>\n",
       "      <td>258.07999</td>\n",
       "      <td>-0.034962</td>\n",
       "    </tr>\n",
       "    <tr>\n",
       "      <th>3785682</th>\n",
       "      <td>93436</td>\n",
       "      <td>2023-09-29</td>\n",
       "      <td>88160R10</td>\n",
       "      <td>11.0</td>\n",
       "      <td>3.0</td>\n",
       "      <td>TSLA</td>\n",
       "      <td>3179000.0</td>\n",
       "      <td>24395440.0</td>\n",
       "      <td>250.22000</td>\n",
       "      <td>-0.030456</td>\n",
       "    </tr>\n",
       "    <tr>\n",
       "      <th>3785683</th>\n",
       "      <td>93436</td>\n",
       "      <td>2023-10-31</td>\n",
       "      <td>88160R10</td>\n",
       "      <td>11.0</td>\n",
       "      <td>3.0</td>\n",
       "      <td>TSLA</td>\n",
       "      <td>3178921.0</td>\n",
       "      <td>25905681.0</td>\n",
       "      <td>200.84000</td>\n",
       "      <td>-0.197346</td>\n",
       "    </tr>\n",
       "    <tr>\n",
       "      <th>3785684</th>\n",
       "      <td>93436</td>\n",
       "      <td>2023-11-30</td>\n",
       "      <td>88160R10</td>\n",
       "      <td>11.0</td>\n",
       "      <td>3.0</td>\n",
       "      <td>TSLA</td>\n",
       "      <td>3178921.0</td>\n",
       "      <td>26395792.0</td>\n",
       "      <td>240.08000</td>\n",
       "      <td>0.195379</td>\n",
       "    </tr>\n",
       "    <tr>\n",
       "      <th>3785685</th>\n",
       "      <td>93436</td>\n",
       "      <td>2023-12-29</td>\n",
       "      <td>88160R10</td>\n",
       "      <td>11.0</td>\n",
       "      <td>3.0</td>\n",
       "      <td>TSLA</td>\n",
       "      <td>3178921.0</td>\n",
       "      <td>22852106.0</td>\n",
       "      <td>248.48000</td>\n",
       "      <td>0.034988</td>\n",
       "    </tr>\n",
       "  </tbody>\n",
       "</table>\n",
       "<p>3785686 rows × 10 columns</p>\n",
       "</div>"
      ],
      "text/plain": [
       "         permno       date     cusip  shrcd  exchcd ticker     shrout  \\\n",
       "0         10000 1986-02-28  68391610   10.0     3.0  OMFGA     3680.0   \n",
       "1         10000 1986-03-31  68391610   10.0     3.0  OMFGA     3680.0   \n",
       "2         10000 1986-04-30  68391610   10.0     3.0  OMFGA     3793.0   \n",
       "3         10000 1986-05-30  68391610   10.0     3.0  OMFGA     3793.0   \n",
       "4         10000 1986-06-30  68391610   10.0     3.0  OMFGA     3793.0   \n",
       "...         ...        ...       ...    ...     ...    ...        ...   \n",
       "3785681   93436 2023-08-31  88160R10   11.0     3.0   TSLA  3173994.0   \n",
       "3785682   93436 2023-09-29  88160R10   11.0     3.0   TSLA  3179000.0   \n",
       "3785683   93436 2023-10-31  88160R10   11.0     3.0   TSLA  3178921.0   \n",
       "3785684   93436 2023-11-30  88160R10   11.0     3.0   TSLA  3178921.0   \n",
       "3785685   93436 2023-12-29  88160R10   11.0     3.0   TSLA  3178921.0   \n",
       "\n",
       "                vol        prc       ret  \n",
       "0             828.0    3.25000 -0.257143  \n",
       "1            1078.0    4.43750  0.365385  \n",
       "2             957.0    4.00000 -0.098592  \n",
       "3            1074.0    3.10938 -0.222656  \n",
       "4            1069.0    3.09375 -0.005025  \n",
       "...             ...        ...       ...  \n",
       "3785681  25029170.0  258.07999 -0.034962  \n",
       "3785682  24395440.0  250.22000 -0.030456  \n",
       "3785683  25905681.0  200.84000 -0.197346  \n",
       "3785684  26395792.0  240.08000  0.195379  \n",
       "3785685  22852106.0  248.48000  0.034988  \n",
       "\n",
       "[3785686 rows x 10 columns]"
      ]
     },
     "execution_count": 6,
     "metadata": {},
     "output_type": "execute_result"
    }
   ],
   "source": [
    "crsp.df"
   ]
  },
  {
   "cell_type": "code",
   "execution_count": 10,
   "metadata": {},
   "outputs": [],
   "source": [
    "crsp.df.to_parquet('data/crsp_monthly_clean.parquet')"
   ]
  },
  {
   "cell_type": "code",
   "execution_count": null,
   "metadata": {},
   "outputs": [],
   "source": []
  }
 ],
 "metadata": {
  "kernelspec": {
   "display_name": "Python 3",
   "language": "python",
   "name": "python3"
  },
  "language_info": {
   "codemirror_mode": {
    "name": "ipython",
    "version": 3
   },
   "file_extension": ".py",
   "mimetype": "text/x-python",
   "name": "python",
   "nbconvert_exporter": "python",
   "pygments_lexer": "ipython3",
   "version": "3.10.14"
  }
 },
 "nbformat": 4,
 "nbformat_minor": 2
}
